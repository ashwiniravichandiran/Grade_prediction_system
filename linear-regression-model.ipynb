{
 "cells": [
  {
   "cell_type": "code",
   "execution_count": 1,
   "id": "8f4a7641",
   "metadata": {
    "_cell_guid": "b1076dfc-b9ad-4769-8c92-a6c4dae69d19",
    "_uuid": "8f2839f25d086af736a60e9eeb907d3b93b6e0e5",
    "execution": {
     "iopub.execute_input": "2023-07-19T15:43:15.257274Z",
     "iopub.status.busy": "2023-07-19T15:43:15.256505Z",
     "iopub.status.idle": "2023-07-19T15:43:16.552328Z",
     "shell.execute_reply": "2023-07-19T15:43:16.550676Z"
    },
    "papermill": {
     "duration": 1.302451,
     "end_time": "2023-07-19T15:43:16.555081",
     "exception": false,
     "start_time": "2023-07-19T15:43:15.252630",
     "status": "completed"
    },
    "tags": []
   },
   "outputs": [
    {
     "name": "stderr",
     "output_type": "stream",
     "text": [
      "/opt/conda/lib/python3.10/site-packages/scipy/__init__.py:146: UserWarning: A NumPy version >=1.16.5 and <1.23.0 is required for this version of SciPy (detected version 1.23.5\n",
      "  warnings.warn(f\"A NumPy version >={np_minversion} and <{np_maxversion}\"\n"
     ]
    },
    {
     "name": "stdout",
     "output_type": "stream",
     "text": [
      "15.296166685183099 [15 15] 15\n",
      "14.741366353008658 [11 15] 15\n",
      "8.28433289642353 [7 9] 8\n",
      "14.173761081404374 [14 14] 13\n",
      "14.035060998360764 [13 14] 14\n",
      "9.684138666289474 [10 10] 10\n",
      "14.880066436052267 [12 15] 15\n",
      "11.790249790803314 [11 12] 11\n",
      "15.434866768226708 [16 15] 15\n",
      "4.349510813483068 [7 5] 0\n",
      "15.01876651909588 [13 15] 16\n",
      "12.067649956890532 [13 12] 12\n",
      "0.12448362502553856 [12  0] 0\n",
      "10.66784418702459 [10 11] 11\n",
      "6.17822177190969 [6 7] 0\n",
      "11.790249790803314 [11 12] 10\n",
      "7.578027541775633 [9 8] 0\n",
      "9.684138666289474 [10 10] 0\n",
      "12.912655394582039 [12 13] 12\n",
      "9.268038417158646 [ 7 10] 11\n",
      "10.8065442700682 [11 11] 11\n",
      "6.17822177190969 [6 7] 0\n",
      "9.822838749333084 [11 10] 10\n",
      "13.051355477625648 [13 13] 12\n",
      "13.051355477625648 [13 13] 12\n",
      "6.594322021040519 [9 7] 8\n",
      "10.8065442700682 [11 11] 11\n",
      "12.206350039934142 [14 12] 12\n",
      "11.651549707759704 [10 12] 12\n",
      "8.28433289642353 [7 9] 8\n",
      "14.312461164447983 [15 14] 13\n",
      "18.663383496519273 [18 18] 18\n",
      "7.716727624819242 [10  8] 9\n",
      "15.15746660213949 [14 15] 16\n",
      "8.42303297946714 [8 9] 10\n",
      "4.210810730439459 [6 5] 0\n",
      "14.173761081404374 [14 14] 14\n",
      "18.663383496519273 [18 18] 18\n",
      "-0.9851170393233376 [4 0] 0\n",
      "9.684138666289474 [10 10] 10\n"
     ]
    }
   ],
   "source": [
    "import numpy as np\n",
    "import pandas as pd\n",
    "import sklearn\n",
    "from sklearn import linear_model\n",
    " \n",
    "data = pd.read_csv('/kaggle/input/student-grade-prediction/student-mat.csv')\n",
    "data = data[['G1','G2','G3']]\n",
    "predict = 'G3'\n",
    "x=np.array(data.drop('G3',axis=1))\n",
    "y=np.array(data[predict])\n",
    "x1,x2,y1,y2=sklearn.model_selection.train_test_split(x,y,test_size=0.1)\n",
    "l=linear_model.LinearRegression()\n",
    "l.fit(x1,y1)\n",
    "acc=l.score(x2,y2)\n",
    "predictions = l.predict(x2)\n",
    "for x in range(len(predictions)):\n",
    "    print(predictions[x],x2[x],y2[x])\n"
   ]
  }
 ],
 "metadata": {
  "kernelspec": {
   "display_name": "Python 3",
   "language": "python",
   "name": "python3"
  },
  "language_info": {
   "codemirror_mode": {
    "name": "ipython",
    "version": 3
   },
   "file_extension": ".py",
   "mimetype": "text/x-python",
   "name": "python",
   "nbconvert_exporter": "python",
   "pygments_lexer": "ipython3",
   "version": "3.10.12"
  },
  "papermill": {
   "default_parameters": {},
   "duration": 13.620356,
   "end_time": "2023-07-19T15:43:17.478192",
   "environment_variables": {},
   "exception": null,
   "input_path": "__notebook__.ipynb",
   "output_path": "__notebook__.ipynb",
   "parameters": {},
   "start_time": "2023-07-19T15:43:03.857836",
   "version": "2.4.0"
  }
 },
 "nbformat": 4,
 "nbformat_minor": 5
}
